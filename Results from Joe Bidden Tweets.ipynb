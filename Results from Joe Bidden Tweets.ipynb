{
 "cells": [
  {
   "cell_type": "code",
   "execution_count": 1,
   "id": "fc5ba735",
   "metadata": {},
   "outputs": [],
   "source": [
    "import csv\n",
    "import pandas as pd\n",
    "\n",
    "import os\n",
    "\n",
    "import nltk\n",
    "\n",
    "from nltk.probability import FreqDist\n",
    "from textblob import TextBlob\n",
    "from nltk.corpus import stopwords\n",
    "from nltk import word_tokenize\n"
   ]
  },
  {
   "cell_type": "code",
   "execution_count": 2,
   "id": "7a78202e",
   "metadata": {},
   "outputs": [],
   "source": [
    "#REMOVING STOP WORDS \n",
    "\n",
    "sw_nltk = stopwords.words('english')\n",
    "\n",
    "example_tweet = open('JoeBidenTweets - JoeBidenTweets.csv', 'r').read()\n",
    "\n",
    "\n",
    "example_tweet_stopless = [word for word in example_tweet.split() if word.lower() not in sw_nltk]\n",
    "new_example_tweet = \" \".join(example_tweet_stopless)\n"
   ]
  },
  {
   "cell_type": "code",
   "execution_count": 3,
   "id": "702586cf",
   "metadata": {},
   "outputs": [],
   "source": [
    "#PREPROCESSING \n",
    "\n",
    "punc = '''—!()-[]{};:'\"“”\\,<>./?@#$%^&*_~'''\n",
    "\n",
    "\n",
    "def preprocess_tokenize(some_string):\n",
    "    some_string = some_string.lower()\n",
    "    for ele in some_string:\n",
    "        if ele in punc:\n",
    "            some_string = some_string.replace(ele, \"\")\n",
    "    return some_string.split()\n"
   ]
  },
  {
   "cell_type": "code",
   "execution_count": 4,
   "id": "6aff1f41",
   "metadata": {},
   "outputs": [],
   "source": [
    "#TERMS GATHERED \n",
    "\n",
    "covid_associated_terms = 'covid, COVID-19,COVID19, disease, vaccination, mask, masks, hospitals, doctors, nurse, nurses,cdc, who, CDC, WHO, world health organization, center for disease control, sanitize, essential workers, social distancing, quarantine, isolation, pandemic, virus, vaccine, vaccinations, doctor, Fauci, scientist, scientists, Dr. Fauci'\n",
    "xenophobia_derogatory_terms = 'china virus, chinese virus, Wuhan, China, kung flu,china,wuhan'\n",
    "conspiracy_terms = 'lab, threat, danger, weapon, chloroquine, azithromycin, hydroxychloroquine, hoax, fake, ivermectin'\n",
    "unity_terms = ' we, us, our, together, band, unite, solidarity, our country, our nation, thank'\n",
    "election_terms = 'vote, ballot, election, votes, ballots, party, Democrat, democrat, Republican, republican, parties, nominate, nominee'\n",
    "\n",
    "\n",
    "covid_associated_terms = covid_associated_terms.split(', ')\n",
    "xenophobia_derogatory_terms = xenophobia_derogatory_terms.split(', ')\n",
    "conspiracy_terms = conspiracy_terms.split(', ')\n",
    "unity_terms = unity_terms.split(', ')\n",
    "election_terms = election_terms.split(', ')\n"
   ]
  },
  {
   "cell_type": "code",
   "execution_count": 5,
   "id": "ee00eb87",
   "metadata": {},
   "outputs": [],
   "source": [
    "#CREATING LISTS AND COUNTS FOR TERMS \n",
    "\n",
    "covid_associated_terms_count = 0\n",
    "xenophobia_derogatory_terms_count = 0\n",
    "conspiracy_terms_count = 0\n",
    "unity_terms_count = 0\n",
    "election_terms_count = 0\n",
    "\n",
    "covid_associated_terms_list = []\n",
    "xenophobia_derogatory_terms_list = []\n",
    "conspiracy_terms_list = []\n",
    "unity_terms_list = []\n",
    "all_terms_list = []\n",
    "election_terms_list = []\n",
    "\n",
    "new_example_tweet = preprocess_tokenize(new_example_tweet)"
   ]
  },
  {
   "cell_type": "code",
   "execution_count": 6,
   "id": "0a994df2",
   "metadata": {},
   "outputs": [
    {
     "name": "stdout",
     "output_type": "stream",
     "text": [
      "From 2,767 tweets and 52,561 words\n"
     ]
    }
   ],
   "source": [
    "# HOW MUCH TWEETS AND WORDS THAT ARE BEING SEARCHED THROUGH\n",
    "\n",
    "print(\"From 2,767 tweets and\" + \" \" +\n",
    "      str('{:,}'.format(len(new_example_tweet))) + \" words\")\n"
   ]
  },
  {
   "cell_type": "code",
   "execution_count": 7,
   "id": "19e5c3d3",
   "metadata": {},
   "outputs": [
    {
     "name": "stdout",
     "output_type": "stream",
     "text": [
      "In Joe Bidden Tweets for COVID Associated Terms, covid associated terms appeared 369 times and these words  appeared ['doctor', 'who', 'scientists', 'virus', 'pandemic', 'disease', 'vaccine', 'doctors', 'masks', 'hospitals', 'covid', 'nurse', 'mask', 'quarantine', 'vaccinations', 'scientist', 'vaccination']\n",
      "\n",
      "In Joe Bidden Tweets for Xenophobia Derogatory Terms, xenophobia derogatory terms appeared 0 times\n",
      "\n",
      "In Joe Bidden Tweets for Conspiracy Terms, conspiracy terms appeared 61 times and these words  appeared ['threat', 'danger', 'weapon', 'fake', 'hoax']\n",
      "\n",
      "In Joe Bidden Tweets for Unity Terms, unity terms appeared 882 times and these words appeared ['us', 'thank', 'solidarity', 'together', 'unite', 'our']\n",
      "\n",
      "In Joe Bidden Tweets for Election Terms, election  terms appeared 374 times and these words appeared ['election', 'vote', 'ballot', 'nominee', 'party', 'votes', 'republican', 'ballots', 'nominate', 'parties', 'democrat']\n",
      "\n"
     ]
    }
   ],
   "source": [
    "# SEARCH THROUGH TWEETS FOR CERTAIN TERMS \n",
    "for index in range(0, 1):\n",
    "    for word in new_example_tweet:   \n",
    "       # print(word)    \n",
    "        if word in covid_associated_terms:\n",
    "            covid_associated_terms_count += 1\n",
    "            all_terms_list.append(word)\n",
    "            if word not in covid_associated_terms_list:\n",
    "                covid_associated_terms_list.append(word)\n",
    "        elif word in xenophobia_derogatory_terms:\n",
    "            xenophobia_derogatory_terms_count += 1\n",
    "            all_terms_list.append(word)\n",
    "            if word not in xenophobia_derogatory_terms_list:\n",
    "                xenophobia_derogatory_terms_list.append(word)\n",
    "        elif word in conspiracy_terms:\n",
    "            conspiracy_terms_count += 1\n",
    "            all_terms_list.append(word)\n",
    "            if word not in conspiracy_terms_list:\n",
    "                conspiracy_terms_list.append(word)\n",
    "        elif word in unity_terms:\n",
    "            unity_terms_count += 1\n",
    "            all_terms_list.append(word)\n",
    "            if word not in unity_terms_list:\n",
    "                unity_terms_list.append(word)\n",
    "        elif word in election_terms:\n",
    "            election_terms_count += 1 \n",
    "            all_terms_list.append(word)\n",
    "            if word not in election_terms_list:\n",
    "                election_terms_list.append(word)\n",
    "        else:\n",
    "            pass\n",
    "        \n",
    "print(\"In Joe Bidden Tweets for COVID Associated Terms, covid associated terms appeared \" + str('{:,}'.format(\n",
    "    covid_associated_terms_count)) + \" \" + \"times\" + \" and these words  appeared \" + str(covid_associated_terms_list) + '\\n')\n",
    "\n",
    "print(\"In Joe Bidden Tweets for Xenophobia Derogatory Terms, xenophobia derogatory terms appeared \" +\n",
    "      str('{:,}'.format(xenophobia_derogatory_terms_count)) + \" \" + \"times\" +'\\n')\n",
    "\n",
    "print(\"In Joe Bidden Tweets for Conspiracy Terms, conspiracy terms appeared \" + str('{:,}'.format(\n",
    "    conspiracy_terms_count)) + \" \" + \"times\" + \" and these words  appeared \" + str(conspiracy_terms_list) + '\\n')\n",
    "\n",
    "print(\"In Joe Bidden Tweets for Unity Terms, unity terms appeared \" + str('{:,}'.format(\n",
    "    unity_terms_count)) + \" \" + \"times\" + \" and these words appeared \" + str(unity_terms_list) + '\\n')\n",
    "\n",
    "print(\"In Joe Bidden Tweets for Election Terms, election  terms appeared \" +\n",
    "      str('{:,}'.format(election_terms_count)) + \" \" + \"times\" + \" and these words appeared \" + str(election_terms_list) + '\\n')\n",
    "\n",
    "\n"
   ]
  },
  {
   "cell_type": "code",
   "execution_count": 8,
   "id": "6bb7a4bb",
   "metadata": {},
   "outputs": [
    {
     "name": "stdout",
     "output_type": "stream",
     "text": [
      "[('us', 412), ('together', 292), ('vote', 162), ('election', 118), ('thank', 111), ('pandemic', 109), ('virus', 87), ('mask', 52), ('threat', 50), ('unite', 44), ('ballot', 43), ('vaccine', 30), ('masks', 23), ('covid', 22), ('scientists', 20), ('our', 18), ('party', 18), ('nominee', 11), ('votes', 7), ('disease', 6), ('doctors', 6), ('solidarity', 5), ('nominate', 4), ('danger', 4), ('who', 4)]\n"
     ]
    },
    {
     "data": {
      "image/png": "[encoded data removed]",
      "text/plain": [
       "<Figure size 432x288 with 1 Axes>"
      ]
     },
     "metadata": {
      "needs_background": "light"
     },
     "output_type": "display_data"
    },
    {
     "name": "stdout",
     "output_type": "stream",
     "text": [
      "AxesSubplot(0.125,0.125;0.775x0.755)\n"
     ]
    }
   ],
   "source": [
    "#FREQUENCEY OF WORDS AND PLOTTED FOR ALL OF THE TERMS REMOVED FROM LIST \n",
    "\n",
    "print(FreqDist(all_terms_list).most_common(25))\n",
    "print(FreqDist(all_terms_list).plot(25))"
   ]
  },
  {
   "cell_type": "code",
   "execution_count": 9,
   "id": "66bd10b9",
   "metadata": {},
   "outputs": [
    {
     "name": "stdout",
     "output_type": "stream",
     "text": [
      "[('president', 652), ('trump', 642), ('donald', 498), ('need', 438), ('us', 412), ('get', 331), ('nation', 330), ('one', 324), ('people', 295), ('together', 292), ('american', 283), ('every', 278), ('country', 278), ('day', 267), ('make', 260), ('today', 243), ('time', 242), ('america', 225), ('help', 221), ('crisis', 208), ('back', 204), ('americans', 202), ('covid19', 197), ('it’s', 193), ('going', 191)]\n"
     ]
    },
    {
     "data": {
      "image/png": "[encoded data removed]",
      "text/plain": [
       "<Figure size 432x288 with 1 Axes>"
      ]
     },
     "metadata": {
      "needs_background": "light"
     },
     "output_type": "display_data"
    },
    {
     "name": "stdout",
     "output_type": "stream",
     "text": [
      "AxesSubplot(0.125,0.125;0.775x0.755)\n"
     ]
    }
   ],
   "source": [
    "#FREQUENCEY OF WORDS AND PLOTTED FROM ALL OF THE TWEETS\n",
    "\n",
    "print(FreqDist(new_example_tweet).most_common(25))\n",
    "print(FreqDist(new_example_tweet).plot(25))"
   ]
  },
  {
   "cell_type": "raw",
   "id": "a159e280",
   "metadata": {},
   "source": [
    "Polarity provides a score from -1 to 1 where -1 is negative and 1 is positive. subjectivity provides a score from 0 to 1 of how how ambitious the words that generated the polarity score were."
   ]
  },
  {
   "cell_type": "code",
   "execution_count": 10,
   "id": "cac7b6c5",
   "metadata": {},
   "outputs": [
    {
     "data": {
      "text/html": [
       "<div>\n",
       "<style scoped>\n",
       "    .dataframe tbody tr th:only-of-type {\n",
       "        vertical-align: middle;\n",
       "    }\n",
       "\n",
       "    .dataframe tbody tr th {\n",
       "        vertical-align: top;\n",
       "    }\n",
       "\n",
       "    .dataframe thead th {\n",
       "        text-align: right;\n",
       "    }\n",
       "</style>\n",
       "<table border=\"1\" class=\"dataframe\">\n",
       "  <thead>\n",
       "    <tr style=\"text-align: right;\">\n",
       "      <th></th>\n",
       "      <th>Tweet</th>\n",
       "      <th>Subjectivity</th>\n",
       "      <th>Polarity</th>\n",
       "    </tr>\n",
       "  </thead>\n",
       "  <tbody>\n",
       "    <tr>\n",
       "      <th>0</th>\n",
       "      <td>Our final fundraising deadline of 2019 is just...</td>\n",
       "      <td>0.475000</td>\n",
       "      <td>-0.075000</td>\n",
       "    </tr>\n",
       "    <tr>\n",
       "      <th>1</th>\n",
       "      <td>Every single human being deserves to be treate...</td>\n",
       "      <td>0.452381</td>\n",
       "      <td>-0.295238</td>\n",
       "    </tr>\n",
       "    <tr>\n",
       "      <th>2</th>\n",
       "      <td>With just over one month until the Iowa Caucus...</td>\n",
       "      <td>0.000000</td>\n",
       "      <td>0.000000</td>\n",
       "    </tr>\n",
       "    <tr>\n",
       "      <th>3</th>\n",
       "      <td>This election is about the soul of our nation ...</td>\n",
       "      <td>0.000000</td>\n",
       "      <td>0.000000</td>\n",
       "    </tr>\n",
       "    <tr>\n",
       "      <th>4</th>\n",
       "      <td>Every day that Donald Trump remains in the Whi...</td>\n",
       "      <td>0.075000</td>\n",
       "      <td>0.033333</td>\n",
       "    </tr>\n",
       "    <tr>\n",
       "      <th>...</th>\n",
       "      <td>...</td>\n",
       "      <td>...</td>\n",
       "      <td>...</td>\n",
       "    </tr>\n",
       "    <tr>\n",
       "      <th>2761</th>\n",
       "      <td>RT @WhiteHouse : We are currently facing four ...</td>\n",
       "      <td>0.300000</td>\n",
       "      <td>0.100000</td>\n",
       "    </tr>\n",
       "    <tr>\n",
       "      <th>2762</th>\n",
       "      <td>RT @POTUS : We don't have a second to waste wh...</td>\n",
       "      <td>0.166667</td>\n",
       "      <td>0.100000</td>\n",
       "    </tr>\n",
       "    <tr>\n",
       "      <th>2763</th>\n",
       "      <td>RT @POTUS : We will get this virus under contr...</td>\n",
       "      <td>0.000000</td>\n",
       "      <td>0.000000</td>\n",
       "    </tr>\n",
       "    <tr>\n",
       "      <th>2764</th>\n",
       "      <td>RT @POTUS : This afternoon, I’ll be taking act...</td>\n",
       "      <td>0.250000</td>\n",
       "      <td>-0.075000</td>\n",
       "    </tr>\n",
       "    <tr>\n",
       "      <th>2765</th>\n",
       "      <td>RT @POTUS : Over the last 10 days, I’ve taken ...</td>\n",
       "      <td>0.083333</td>\n",
       "      <td>0.050000</td>\n",
       "    </tr>\n",
       "  </tbody>\n",
       "</table>\n",
       "<p>2766 rows × 3 columns</p>\n",
       "</div>"
      ],
      "text/plain": [
       "                                                  Tweet  Subjectivity  \\\n",
       "0     Our final fundraising deadline of 2019 is just...      0.475000   \n",
       "1     Every single human being deserves to be treate...      0.452381   \n",
       "2     With just over one month until the Iowa Caucus...      0.000000   \n",
       "3     This election is about the soul of our nation ...      0.000000   \n",
       "4     Every day that Donald Trump remains in the Whi...      0.075000   \n",
       "...                                                 ...           ...   \n",
       "2761  RT @WhiteHouse : We are currently facing four ...      0.300000   \n",
       "2762  RT @POTUS : We don't have a second to waste wh...      0.166667   \n",
       "2763  RT @POTUS : We will get this virus under contr...      0.000000   \n",
       "2764  RT @POTUS : This afternoon, I’ll be taking act...      0.250000   \n",
       "2765  RT @POTUS : Over the last 10 days, I’ve taken ...      0.083333   \n",
       "\n",
       "      Polarity  \n",
       "0    -0.075000  \n",
       "1    -0.295238  \n",
       "2     0.000000  \n",
       "3     0.000000  \n",
       "4     0.033333  \n",
       "...        ...  \n",
       "2761  0.100000  \n",
       "2762  0.100000  \n",
       "2763  0.000000  \n",
       "2764 -0.075000  \n",
       "2765  0.050000  \n",
       "\n",
       "[2766 rows x 3 columns]"
      ]
     },
     "execution_count": 10,
     "metadata": {},
     "output_type": "execute_result"
    }
   ],
   "source": [
    "#Sentiment Analysis\n",
    "tweets_df = pd.read_csv('JoeBidenTweets - JoeBidenTweets.csv', header=None)\n",
    "\n",
    "tweets_df = tweets_df.rename(columns={0: \"Tweet\"})\n",
    "tweets_df_name_index = tweets_df.set_index('Tweet')\n",
    "\n",
    "tweets_df[\"Tweet\"].apply(lambda tweet: TextBlob(tweet).sentiment.subjectivity)\n",
    "\n",
    "tweets_df[\"Subjectivity\"] = tweets_df[\"Tweet\"].apply(lambda tweet: TextBlob(tweet).sentiment.subjectivity)\n",
    "tweets_df\n",
    "\n",
    "tweets_df[\"Polarity\"] = tweets_df[\"Tweet\"].apply(lambda tweet: TextBlob(tweet).sentiment.polarity)\n",
    "tweets_df"
   ]
  },
  {
   "cell_type": "code",
   "execution_count": 11,
   "id": "9dd5b440",
   "metadata": {},
   "outputs": [
    {
     "data": {
      "text/html": [
       "<div>\n",
       "<style scoped>\n",
       "    .dataframe tbody tr th:only-of-type {\n",
       "        vertical-align: middle;\n",
       "    }\n",
       "\n",
       "    .dataframe tbody tr th {\n",
       "        vertical-align: top;\n",
       "    }\n",
       "\n",
       "    .dataframe thead th {\n",
       "        text-align: right;\n",
       "    }\n",
       "</style>\n",
       "<table border=\"1\" class=\"dataframe\">\n",
       "  <thead>\n",
       "    <tr style=\"text-align: right;\">\n",
       "      <th></th>\n",
       "      <th>Subjectivity</th>\n",
       "      <th>Polarity</th>\n",
       "    </tr>\n",
       "  </thead>\n",
       "  <tbody>\n",
       "    <tr>\n",
       "      <th>count</th>\n",
       "      <td>2766.000000</td>\n",
       "      <td>2766.000000</td>\n",
       "    </tr>\n",
       "    <tr>\n",
       "      <th>mean</th>\n",
       "      <td>0.359956</td>\n",
       "      <td>0.116417</td>\n",
       "    </tr>\n",
       "    <tr>\n",
       "      <th>std</th>\n",
       "      <td>0.259007</td>\n",
       "      <td>0.242213</td>\n",
       "    </tr>\n",
       "    <tr>\n",
       "      <th>min</th>\n",
       "      <td>0.000000</td>\n",
       "      <td>-1.000000</td>\n",
       "    </tr>\n",
       "    <tr>\n",
       "      <th>25%</th>\n",
       "      <td>0.150000</td>\n",
       "      <td>0.000000</td>\n",
       "    </tr>\n",
       "    <tr>\n",
       "      <th>50%</th>\n",
       "      <td>0.374369</td>\n",
       "      <td>0.063194</td>\n",
       "    </tr>\n",
       "    <tr>\n",
       "      <th>75%</th>\n",
       "      <td>0.519444</td>\n",
       "      <td>0.250000</td>\n",
       "    </tr>\n",
       "    <tr>\n",
       "      <th>max</th>\n",
       "      <td>1.000000</td>\n",
       "      <td>1.000000</td>\n",
       "    </tr>\n",
       "  </tbody>\n",
       "</table>\n",
       "</div>"
      ],
      "text/plain": [
       "       Subjectivity     Polarity\n",
       "count   2766.000000  2766.000000\n",
       "mean       0.359956     0.116417\n",
       "std        0.259007     0.242213\n",
       "min        0.000000    -1.000000\n",
       "25%        0.150000     0.000000\n",
       "50%        0.374369     0.063194\n",
       "75%        0.519444     0.250000\n",
       "max        1.000000     1.000000"
      ]
     },
     "execution_count": 11,
     "metadata": {},
     "output_type": "execute_result"
    }
   ],
   "source": [
    "tweets_df.describe()"
   ]
  },
  {
   "cell_type": "code",
   "execution_count": 12,
   "id": "605858ce",
   "metadata": {},
   "outputs": [
    {
     "data": {
      "text/plain": [
       "array([[<AxesSubplot:title={'center':'Subjectivity'}>,\n",
       "        <AxesSubplot:title={'center':'Polarity'}>]], dtype=object)"
      ]
     },
     "execution_count": 12,
     "metadata": {},
     "output_type": "execute_result"
    },
    {
     "data": {
      "image/png": "[encoded data removed]",
      "text/plain": [
       "<Figure size 432x288 with 2 Axes>"
      ]
     },
     "metadata": {
      "needs_background": "light"
     },
     "output_type": "display_data"
    }
   ],
   "source": [
    "tweets_df.hist()"
   ]
  },
  {
   "cell_type": "code",
   "execution_count": null,
   "id": "10952e90",
   "metadata": {},
   "outputs": [],
   "source": []
  }
 ],
 "metadata": {
  "kernelspec": {
   "display_name": "Python 3 (ipykernel)",
   "language": "python",
   "name": "python3"
  },
  "language_info": {
   "codemirror_mode": {
    "name": "ipython",
    "version": 3
   },
   "file_extension": ".py",
   "mimetype": "text/x-python",
   "name": "python",
   "nbconvert_exporter": "python",
   "pygments_lexer": "ipython3",
   "version": "3.7.3"
  }
 },
 "nbformat": 4,
 "nbformat_minor": 5
}
