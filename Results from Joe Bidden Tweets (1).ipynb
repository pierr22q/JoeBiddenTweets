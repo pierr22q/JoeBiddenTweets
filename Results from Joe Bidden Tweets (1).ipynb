{
 "cells": [
  {
   "cell_type": "code",
   "execution_count": 2,
   "id": "fc5ba735",
   "metadata": {},
   "outputs": [],
   "source": [
    "import csv\n",
    "\n",
    "import os\n",
    "\n",
    "import nltk\n",
    "\n",
    "from nltk.probability import FreqDist\n",
    "from nltk.corpus import stopwords\n",
    "from nltk import word_tokenize\n"
   ]
  },
  {
   "cell_type": "code",
   "execution_count": 3,
   "id": "7a78202e",
   "metadata": {},
   "outputs": [],
   "source": [
    "#REMOVING STOP WORDS \n",
    "\n",
    "sw_nltk = stopwords.words('english')\n",
    "\n",
    "example_tweet = open('JoeBidenTweets.csv', 'r').read()\n",
    "\n",
    "example_tweet_stopless = [word for word in example_tweet.split() if word.lower() not in sw_nltk]\n",
    "new_example_tweet = \" \".join(example_tweet_stopless)"
   ]
  },
  {
   "cell_type": "code",
   "execution_count": 4,
   "id": "702586cf",
   "metadata": {},
   "outputs": [],
   "source": [
    "#PREPROCESSING \n",
    "\n",
    "punc = '''—!()-[]{};:'\"“”\\,<>./?@#$%^&*_~'''\n",
    "\n",
    "\n",
    "def preprocess_tokenize(some_string):\n",
    "    some_string = some_string.lower()\n",
    "    for ele in some_string:\n",
    "        if ele in punc:\n",
    "            some_string = some_string.replace(ele, \"\")\n",
    "    return some_string.split()\n"
   ]
  },
  {
   "cell_type": "code",
   "execution_count": 5,
   "id": "6aff1f41",
   "metadata": {},
   "outputs": [],
   "source": [
    "#TERMS GATHERED \n",
    "\n",
    "covid_associated_terms = 'covid, COVID-19,COVID19, disease, vaccination, mask, masks, hospitals, doctors, nurse, nurses,cdc, who, CDC, WHO, world health organization, center for disease control, sanitize, essential workers, social distancing, quarantine, isolation, pandemic, virus, vaccine, vaccinations, doctor, Fauci, scientist, scientists, Dr. Fauci'\n",
    "xenophobia_derogatory_terms = 'china virus, chinese virus, Wuhan, China, kung flu,china,wuhan'\n",
    "conspiracy_terms = 'lab, threat, danger, weapon, chloroquine, azithromycin, hydroxychloroquine, hoax, fake, ivermectin'\n",
    "unity_terms = ' we, us, our, together, band, unite, solidarity, our country, our nation, thank'\n",
    "election_terms = 'vote, ballot, election, votes, ballots, party, Democrat, democrat, Republican, republican, parties, nominate, nominee'\n",
    "\n",
    "\n",
    "covid_associated_terms = covid_associated_terms.split(', ')\n",
    "xenophobia_derogatory_terms = xenophobia_derogatory_terms.split(', ')\n",
    "conspiracy_terms = conspiracy_terms.split(', ')\n",
    "unity_terms = unity_terms.split(', ')\n",
    "election_terms = election_terms.split(', ')\n"
   ]
  },
  {
   "cell_type": "code",
   "execution_count": 6,
   "id": "ee00eb87",
   "metadata": {},
   "outputs": [],
   "source": [
    "#CREATING LISTS AND COUNTS FOR TERMS \n",
    "\n",
    "covid_associated_terms_count = 0\n",
    "xenophobia_derogatory_terms_count = 0\n",
    "conspiracy_terms_count = 0\n",
    "unity_terms_count = 0\n",
    "election_terms_count = 0\n",
    "\n",
    "covid_associated_terms_list = []\n",
    "xenophobia_derogatory_terms_list = []\n",
    "conspiracy_terms_list = []\n",
    "unity_terms_list = []\n",
    "all_terms_list = []\n",
    "election_terms_list = []\n",
    "\n",
    "new_example_tweet = preprocess_tokenize(new_example_tweet)"
   ]
  },
  {
   "cell_type": "code",
   "execution_count": 7,
   "id": "0a994df2",
   "metadata": {},
   "outputs": [
    {
     "name": "stdout",
     "output_type": "stream",
     "text": [
      "From 2,767 tweets and 53,347 words\n"
     ]
    }
   ],
   "source": [
    "# HOW MUCH TWEETS AND WORDS THAT ARE BEING SEARCHED THROUGH\n",
    "\n",
    "print(\"From 2,767 tweets and\" + \" \" +\n",
    "      str('{:,}'.format(len(new_example_tweet))) + \" words\")\n"
   ]
  },
  {
   "cell_type": "code",
   "execution_count": 9,
   "id": "19e5c3d3",
   "metadata": {},
   "outputs": [
    {
     "name": "stdout",
     "output_type": "stream",
     "text": [
      "In Joe Bidden Tweets for COVID Associated Terms, covid associated terms appeared 400 times and these words  appeared ['doctor', 'who', 'scientists', 'virus', 'pandemic', 'disease', 'vaccine', 'doctors', 'masks', 'hospitals', 'covid', 'nurse', 'mask', 'quarantine', 'vaccinations', 'scientist', 'vaccination']\n",
      "\n",
      "In Joe Bidden Tweets for Xenophobia Derogatory Terms, xenophobia derogatory terms appeared 0 times\n",
      "\n",
      "In Joe Bidden Tweets for Conspiracy Terms, conspiracy terms appeared 63 times and these words  appeared ['threat', 'danger', 'weapon', 'hoax', 'fake']\n",
      "\n",
      "In Joe Bidden Tweets for Unity Terms, unity terms appeared 924 times and these words appeared ['our', 'us', 'thank', 'solidarity', 'together', 'unite']\n",
      "\n",
      "In Joe Bidden Tweets for Election Terms, election  terms appeared 429 times and these words appeared ['election', 'vote', 'ballot', 'nominee', 'party', 'votes', 'republican', 'ballots', 'nominate', 'parties', 'democrat']\n",
      "\n"
     ]
    }
   ],
   "source": [
    "# SEARCH THROUGH TWEETS FOR CERTAIN TERMS \n",
    "for index in range(0, 1):\n",
    "    for word in new_example_tweet:   \n",
    "       # print(word)    \n",
    "        if word in covid_associated_terms:\n",
    "            covid_associated_terms_count += 1\n",
    "            all_terms_list.append(word)\n",
    "            if word not in covid_associated_terms_list:\n",
    "                covid_associated_terms_list.append(word)\n",
    "        elif word in xenophobia_derogatory_terms:\n",
    "            xenophobia_derogatory_terms_count += 1\n",
    "            all_terms_list.append(word)\n",
    "            if word not in xenophobia_derogatory_terms_list:\n",
    "                xenophobia_derogatory_terms_list.append(word)\n",
    "        elif word in conspiracy_terms:\n",
    "            conspiracy_terms_count += 1\n",
    "            all_terms_list.append(word)\n",
    "            if word not in conspiracy_terms_list:\n",
    "                conspiracy_terms_list.append(word)\n",
    "        elif word in unity_terms:\n",
    "            unity_terms_count += 1\n",
    "            all_terms_list.append(word)\n",
    "            if word not in unity_terms_list:\n",
    "                unity_terms_list.append(word)\n",
    "        elif word in election_terms:\n",
    "            election_terms_count += 1 \n",
    "            all_terms_list.append(word)\n",
    "            if word not in election_terms_list:\n",
    "                election_terms_list.append(word)\n",
    "        else:\n",
    "            pass\n",
    "        \n",
    "print(\"In Joe Bidden Tweets for COVID Associated Terms, covid associated terms appeared \" + str('{:,}'.format(\n",
    "    covid_associated_terms_count)) + \" \" + \"times\" + \" and these words  appeared \" + str(covid_associated_terms_list) + '\\n')\n",
    "\n",
    "print(\"In Joe Bidden Tweets for Xenophobia Derogatory Terms, xenophobia derogatory terms appeared \" +\n",
    "      str('{:,}'.format(xenophobia_derogatory_terms_count)) + \" \" + \"times\" +'\\n')\n",
    "\n",
    "print(\"In Joe Bidden Tweets for Conspiracy Terms, conspiracy terms appeared \" + str('{:,}'.format(\n",
    "    conspiracy_terms_count)) + \" \" + \"times\" + \" and these words  appeared \" + str(conspiracy_terms_list) + '\\n')\n",
    "\n",
    "print(\"In Joe Bidden Tweets for Unity Terms, unity terms appeared \" + str('{:,}'.format(\n",
    "    unity_terms_count)) + \" \" + \"times\" + \" and these words appeared \" + str(unity_terms_list) + '\\n')\n",
    "\n",
    "print(\"In Joe Bidden Tweets for Election Terms, election  terms appeared \" +\n",
    "      str('{:,}'.format(election_terms_count)) + \" \" + \"times\" + \" and these words appeared \" + str(election_terms_list) + '\\n')\n",
    "\n",
    "\n"
   ]
  },
  {
   "cell_type": "code",
   "execution_count": 8,
   "id": "6bb7a4bb",
   "metadata": {},
   "outputs": [
    {
     "name": "stdout",
     "output_type": "stream",
     "text": [
      "[('us', 424), ('together', 312), ('pandemic', 117), ('thank', 115), ('virus', 99), ('mask', 54), ('threat', 51), ('unite', 45), ('vaccine', 32), ('masks', 25), ('our', 23), ('covid', 23), ('scientists', 20), ('doctors', 7), ('who', 6), ('disease', 6), ('solidarity', 5), ('danger', 4), ('hoax', 4), ('weapon', 3), ('hospitals', 3), ('vaccination', 3), ('doctor', 1), ('nurse', 1), ('fake', 1)]\n"
     ]
    },
    {
     "data": {
      "image/png": "[encoded data removed]",
      "text/plain": [
       "<Figure size 432x288 with 1 Axes>"
      ]
     },
     "metadata": {
      "needs_background": "light"
     },
     "output_type": "display_data"
    },
    {
     "name": "stdout",
     "output_type": "stream",
     "text": [
      "AxesSubplot(0.125,0.125;0.775x0.755)\n"
     ]
    }
   ],
   "source": [
    "#FREQUENCEY OF WORDS AND PLOTTED FOR ALL OF THE TERMS REMOVED FROM LIST \n",
    "\n",
    "print(FreqDist(all_terms_list).most_common(25))\n",
    "print(FreqDist(all_terms_list).plot(25))"
   ]
  },
  {
   "cell_type": "code",
   "execution_count": 9,
   "id": "66bd10b9",
   "metadata": {},
   "outputs": [
    {
     "name": "stdout",
     "output_type": "stream",
     "text": [
      "[('president', 670), ('trump', 657), ('donald', 522), ('need', 441), ('us', 424), ('nation', 361), ('get', 334), ('one', 327), ('together', 312), ('people', 300), ('country', 296), ('every', 288), ('american', 285), ('day', 273), ('make', 266), ('today', 257), ('time', 247), ('america', 246), ('help', 229), ('it’s', 224), ('crisis', 215), ('back', 210), ('covid19', 210), ('americans', 208), ('vote', 203)]\n"
     ]
    },
    {
     "data": {
      "image/png": "[encoded data removed]",
      "text/plain": [
       "<Figure size 432x288 with 1 Axes>"
      ]
     },
     "metadata": {
      "needs_background": "light"
     },
     "output_type": "display_data"
    },
    {
     "name": "stdout",
     "output_type": "stream",
     "text": [
      "AxesSubplot(0.125,0.125;0.775x0.755)\n"
     ]
    }
   ],
   "source": [
    "#FREQUENCEY OF WORDS AND PLOTTED FROM ALL OF THE TWEETS\n",
    "\n",
    "\n",
    "print(FreqDist(new_example_tweet).most_common(25))\n",
    "print(FreqDist(new_example_tweet).plot(25))"
   ]
  },
  {
   "cell_type": "code",
   "execution_count": null,
   "id": "e7fe7fe4",
   "metadata": {},
   "outputs": [],
   "source": []
  }
 ],
 "metadata": {
  "kernelspec": {
   "display_name": "Python 3 (ipykernel)",
   "language": "python",
   "name": "python3"
  },
  "language_info": {
   "codemirror_mode": {
    "name": "ipython",
    "version": 3
   },
   "file_extension": ".py",
   "mimetype": "text/x-python",
   "name": "python",
   "nbconvert_exporter": "python",
   "pygments_lexer": "ipython3",
   "version": "3.7.3"
  }
 },
 "nbformat": 4,
 "nbformat_minor": 5
}
